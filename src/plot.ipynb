{
 "cells": [
  {
   "cell_type": "code",
   "execution_count": 19,
   "metadata": {},
   "outputs": [
    {
     "ename": "IndexError",
     "evalue": "list index out of range",
     "output_type": "error",
     "traceback": [
      "\u001B[0;31m---------------------------------------------------------------------------\u001B[0m",
      "\u001B[0;31mIndexError\u001B[0m                                Traceback (most recent call last)",
      "Cell \u001B[0;32mIn [19], line 25\u001B[0m\n\u001B[1;32m     23\u001B[0m         progresses[splits[\u001B[38;5;241m1\u001B[39m]][\u001B[38;5;241m1\u001B[39m]\u001B[38;5;241m.\u001B[39mappend(\u001B[38;5;28mfloat\u001B[39m(splits[\u001B[38;5;241m3\u001B[39m]))\n\u001B[1;32m     24\u001B[0m     \u001B[38;5;28;01melse\u001B[39;00m:\n\u001B[0;32m---> 25\u001B[0m         progresses[splits[\u001B[38;5;241m1\u001B[39m]] \u001B[38;5;241m=\u001B[39m ([\u001B[38;5;28mint\u001B[39m(splits[\u001B[38;5;241m2\u001B[39m])], [\u001B[38;5;28mfloat\u001B[39m(\u001B[43msplits\u001B[49m\u001B[43m[\u001B[49m\u001B[38;5;241;43m3\u001B[39;49m\u001B[43m]\u001B[49m)])\n\u001B[1;32m     26\u001B[0m \u001B[38;5;28;01melif\u001B[39;00m splits[\u001B[38;5;241m0\u001B[39m] \u001B[38;5;241m==\u001B[39m \u001B[38;5;124m\"\u001B[39m\u001B[38;5;124mrtt\u001B[39m\u001B[38;5;124m\"\u001B[39m:\n\u001B[1;32m     27\u001B[0m     \u001B[38;5;28;01mif\u001B[39;00m splits[\u001B[38;5;241m1\u001B[39m] \u001B[38;5;129;01min\u001B[39;00m rtts:\n",
      "\u001B[0;31mIndexError\u001B[0m: list index out of range"
     ]
    }
   ],
   "source": [
    "LOG_PATH = \"../log/comp-14.log\"\n",
    "\n",
    "log = open(LOG_PATH, 'r')\n",
    "\n",
    "window_sizes = {}\n",
    "progresses = {}\n",
    "rtts = {}\n",
    "\n",
    "import math\n",
    "\n",
    "line = log.readline().strip()\n",
    "while line:\n",
    "    splits = line.split('|')\n",
    "    if splits[0] == \"window_size\":\n",
    "        if splits[1] in window_sizes:\n",
    "            window_sizes[splits[1]][0].append(float(splits[2]))\n",
    "            window_sizes[splits[1]][1].append(float(splits[3]))\n",
    "        else:\n",
    "            window_sizes[splits[1]] = ([float(splits[2])], [float(splits[3])])\n",
    "    elif splits[0] == \"progress\":\n",
    "        if splits[1] in progresses:\n",
    "            progresses[splits[1]][0].append(int(splits[2]))\n",
    "            progresses[splits[1]][1].append(float(splits[3]))\n",
    "        else:\n",
    "            progresses[splits[1]] = ([int(splits[2])], [float(splits[3])])\n",
    "    elif splits[0] == \"rtt\":\n",
    "        if splits[1] in rtts:\n",
    "            rtts[splits[1]][0].append(1024 / float(splits[2]))\n",
    "            rtts[splits[1]][1].append(float(splits[3]))\n",
    "        else:\n",
    "            rtts[splits[1]] = ([1024 / float(splits[2])], [float(splits[3])])\n",
    "    line = log.readline().strip()\n",
    "\n",
    "\n",
    "print(window_sizes)\n",
    "print(progresses)"
   ]
  },
  {
   "cell_type": "code",
   "execution_count": null,
   "metadata": {},
   "outputs": [],
   "source": [
    "from matplotlib import pyplot as plt\n",
    "\n",
    "plt.figure()\n",
    "for port, progress in progresses.items():\n",
    "    plt.plot(progress[1], progress[0], label=port)\n",
    "plt.xlabel(\"Time elapsed (s)\")\n",
    "plt.ylabel(\"Sending seq\")\n",
    "plt.title(\"Progress of Packet Sending\")\n",
    "plt.legend()\n",
    "plt.show()\n",
    "\n",
    "plt.figure()\n",
    "for port, window_size in window_sizes.items():\n",
    "    plt.plot(window_size[1], window_size[0], label=port)\n",
    "plt.xlabel(\"Time elapsed (s)\")\n",
    "plt.ylabel(\"Size\")\n",
    "plt.title(\"Control Window Size\")\n",
    "plt.legend()\n",
    "plt.show()\n",
    "\n",
    "plt.figure()\n",
    "for port, rtt in rtts.items():\n",
    "    plt.plot(rtt[1], rtt[0], label=port)\n",
    "plt.xlabel(\"Time elapsed (s)\")\n",
    "plt.ylabel(\"Throughput\")\n",
    "plt.title(\"Real Throughput (without retransmission)\")\n",
    "plt.legend()\n",
    "plt.show()\n",
    "\n",
    "# plt.figure()\n",
    "# plt.plot(window_sizes, window_sizes, label=\"Window size\")\n",
    "# plt.xlabel(\"Window size in order\")\n",
    "# plt.title(\"Window Size\")\n",
    "# plt.legend()\n",
    "# plt.show()\n",
    "#\n",
    "# plt.figure()\n",
    "# rtts_x = range(1, len(rtts) + 1)\n",
    "# plt.plot(rtts_x, rtts, label=\"Real Throughput\")\n",
    "# plt.xlabel(\"Packet Sent\")\n",
    "# plt.title(\"Real Throughput\")\n",
    "# plt.legend()\n",
    "# plt.show()\n",
    "#\n",
    "# plt.figure()\n",
    "# # max_time = 0\n",
    "# # for _, timestamps in progresses.items():\n",
    "# #     if max(timestamps) > max_time:\n",
    "# #         max_time = max(timestamps)\n",
    "# # plt.xlim(0, max_time)\n",
    "# for hash, timestamps in progresses.items():\n",
    "#     progress_y = range(1, len(timestamps) + 1)\n",
    "#     plt.plot(timestamps, progress_y, label=hash)\n",
    "# plt.xlabel(\"time spent since start (s)\")\n",
    "# plt.ylabel(\"Number of seqs received\")\n",
    "# plt.title(\"Progress to Time\")\n",
    "# plt.legend()\n",
    "# plt.show()"
   ]
  }
 ],
 "metadata": {
  "kernelspec": {
   "display_name": "baseclone",
   "language": "python",
   "name": "python3"
  },
  "language_info": {
   "codemirror_mode": {
    "name": "ipython",
    "version": 3
   },
   "file_extension": ".py",
   "mimetype": "text/x-python",
   "name": "python",
   "nbconvert_exporter": "python",
   "pygments_lexer": "ipython3",
   "version": "3.9.15"
  },
  "orig_nbformat": 4,
  "vscode": {
   "interpreter": {
    "hash": "b4494550fd2c455d12025b7cfce3597d9eb74249dc2acea6a9c1fae47f4abe40"
   }
  }
 },
 "nbformat": 4,
 "nbformat_minor": 2
}